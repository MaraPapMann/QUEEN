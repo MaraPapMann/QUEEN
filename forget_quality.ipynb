{
 "cells": [
  {
   "cell_type": "code",
   "execution_count": 28,
   "metadata": {},
   "outputs": [],
   "source": [
    "# Load trained models\n",
    "from defenses.models.cifar.vgg import vgg16_bn\n",
    "import torch\n",
    "\n",
    "modelname='vgg16_bn'\n",
    "modeltype='cifar'\n",
    "num_classes=10\n",
    "pth_origin_model = 'experiment/victim/CIFAR10-vgg16_bn-train-nodefense/checkpoint.pth.tar'\n",
    "pth_naked_model = 'experiment/final_bb_dist/CIFAR10-vgg16_bn/random_naive-TinyImageNet200-B50000/none/checkpoint.50000.pth.tar'\n",
    "pth_protectee_model='experiment/final_bb_dist/CIFAR10-vgg16_bn/random_naive-TinyImageNet200-B50000/modelguardw/eps1.0/checkpoint.50000.pth.tar'\n",
    "device='cuda:0'\n",
    "\n",
    "# original_model = vgg16_bn(num_classes=num_classes)\n",
    "# original_model.load_state_dict(torch.load(pth_origin_model)['state_dict']) \n",
    "# original_model = original_model.to(device)\n",
    "protectee_model = vgg16_bn(num_classes=num_classes)\n",
    "naked_model = vgg16_bn(num_classes=num_classes)\n",
    "protectee_model.load_state_dict(torch.load(pth_protectee_model)['state_dict'])\n",
    "protectee_model = protectee_model.to(device)\n",
    "naked_model.load_state_dict(torch.load(pth_naked_model)['state_dict'])\n",
    "naked_model = naked_model.to(device)\n"
   ]
  },
  {
   "cell_type": "code",
   "execution_count": 6,
   "metadata": {},
   "outputs": [
    {
     "name": "stdout",
     "output_type": "stream",
     "text": [
      "=> done loading TinyImageNet200 (train) with 100000 examples\n"
     ]
    },
    {
     "name": "stderr",
     "output_type": "stream",
     "text": [
      "100%|██████████| 1563/1563 [00:21<00:00, 73.63it/s]\n",
      "100%|██████████| 1563/1563 [00:21<00:00, 73.87it/s]\n"
     ]
    }
   ],
   "source": [
    "# Get the outputs of the models using the query dataset\n",
    "from defenses import datasets\n",
    "from torch.utils.data import DataLoader, Subset\n",
    "import random\n",
    "from utils import operator as opt\n",
    "import tqdm\n",
    "\n",
    "bs=32\n",
    "budget=50000\n",
    "\n",
    "transform = datasets.modelfamily_to_transforms[modeltype]['train']\n",
    "query_set = datasets.TinyImageNet200(True, transform)\n",
    "indices = list(random.sample(range(len(query_set)), budget))\n",
    "query_set = Subset(query_set, indices)\n",
    "query_loader = DataLoader(query_set, bs, False)\n",
    "\n",
    "# Y_origin = None\n",
    "# with torch.no_grad():\n",
    "#     original_model.eval()\n",
    "#     for X, _ in tqdm.tqdm(query_loader):\n",
    "#         X = X.to(device)\n",
    "#         y_origin = original_model(X)\n",
    "#         Y_origin = opt.tensor.cat_tensors(Y_origin, y_origin)\n",
    "# Y_origin = torch.nn.functional.softmax(Y_origin, 1).cpu().detach().numpy()\n",
    "\n",
    "Y_naked = None\n",
    "with torch.no_grad():\n",
    "    naked_model.eval()\n",
    "    for X, _ in tqdm.tqdm(query_loader):\n",
    "        X = X.to(device)\n",
    "        y_naked = naked_model(X)\n",
    "        Y_naked = opt.tensor.cat_tensors(Y_naked, y_naked)\n",
    "Y_naked = torch.nn.functional.softmax(Y_naked, 1).cpu().detach().numpy()\n",
    "\n"
   ]
  },
  {
   "cell_type": "code",
   "execution_count": 29,
   "metadata": {},
   "outputs": [
    {
     "name": "stderr",
     "output_type": "stream",
     "text": [
      "100%|██████████| 1563/1563 [00:20<00:00, 75.30it/s]\n"
     ]
    }
   ],
   "source": [
    "Y_protectee = None\n",
    "with torch.no_grad():\n",
    "    protectee_model.eval()\n",
    "    for X, _ in tqdm.tqdm(query_loader):\n",
    "        X = X.to(device)\n",
    "        y_protectee = protectee_model(X)\n",
    "        Y_protectee = opt.tensor.cat_tensors(Y_protectee, y_protectee)\n",
    "Y_protectee = torch.nn.functional.softmax(Y_protectee, 1).cpu().detach().numpy()"
   ]
  },
  {
   "cell_type": "code",
   "execution_count": 30,
   "metadata": {},
   "outputs": [
    {
     "name": "stdout",
     "output_type": "stream",
     "text": [
      "P-Value: 3.075662985079654e-104\n"
     ]
    }
   ],
   "source": [
    "# Perform KS-test on the outputs to get the P value\n",
    "from scipy import stats\n",
    "import numpy as np\n",
    "import torch.nn.functional as F\n",
    "from matplotlib import pyplot as plt\n",
    "\n",
    "# Perform the Pearson correlation test\n",
    "# naked_l1_dist = np.sum(np.abs((Y_origin - Y_naked)), 1)\n",
    "# protectee_l1_dist = np.sum(np.abs((Y_origin - Y_protectee)), 1)\n",
    "pred_naked = np.argmax(Y_naked, 1)\n",
    "pred_protected = np.argmax(Y_protectee, 1)\n",
    "\n",
    "p_value = stats.ks_2samp(pred_naked, pred_protected).pvalue  # Assuming you want to test correlation for the first dimension\n",
    "\n",
    "# Print the correlation coefficient and p-value\n",
    "print(\"P-Value:\", p_value)"
   ]
  },
  {
   "cell_type": "code",
   "execution_count": 31,
   "metadata": {},
   "outputs": [
    {
     "name": "stdout",
     "output_type": "stream",
     "text": [
      "-238.34532918845773\n"
     ]
    }
   ],
   "source": [
    "print(np.log(p_value))"
   ]
  },
  {
   "cell_type": "code",
   "execution_count": 22,
   "metadata": {},
   "outputs": [
    {
     "data": {
      "text/plain": [
       "(array([ 5027.,  1812.,  5280., 13459.,  4061.,  3902.,  4624.,  1762.,\n",
       "         3978.,  6095.]),\n",
       " array([0. , 0.9, 1.8, 2.7, 3.6, 4.5, 5.4, 6.3, 7.2, 8.1, 9. ]),\n",
       " <BarContainer object of 10 artists>)"
      ]
     },
     "execution_count": 22,
     "metadata": {},
     "output_type": "execute_result"
    },
    {
     "data": {
      "image/png": "[encoded data removed]",
      "text/plain": [
       "<Figure size 640x480 with 1 Axes>"
      ]
     },
     "metadata": {},
     "output_type": "display_data"
    }
   ],
   "source": [
    "plt.hist(pred_naked)"
   ]
  },
  {
   "cell_type": "code",
   "execution_count": 23,
   "metadata": {},
   "outputs": [
    {
     "data": {
      "text/plain": [
       "(array([2985., 5571., 3461., 8238., 3593., 2947., 8787., 1759., 7008.,\n",
       "        5651.]),\n",
       " array([0. , 0.9, 1.8, 2.7, 3.6, 4.5, 5.4, 6.3, 7.2, 8.1, 9. ]),\n",
       " <BarContainer object of 10 artists>)"
      ]
     },
     "execution_count": 23,
     "metadata": {},
     "output_type": "execute_result"
    },
    {
     "data": {
      "image/png": "[encoded data removed]",
      "text/plain": [
       "<Figure size 640x480 with 1 Axes>"
      ]
     },
     "metadata": {},
     "output_type": "display_data"
    }
   ],
   "source": [
    "plt.hist(pred_protected)"
   ]
  }
 ],
 "metadata": {
  "kernelspec": {
   "display_name": "pytorch1.12.1",
   "language": "python",
   "name": "python3"
  },
  "language_info": {
   "codemirror_mode": {
    "name": "ipython",
    "version": 3
   },
   "file_extension": ".py",
   "mimetype": "text/x-python",
   "name": "python",
   "nbconvert_exporter": "python",
   "pygments_lexer": "ipython3",
   "version": "3.10.4"
  }
 },
 "nbformat": 4,
 "nbformat_minor": 2
}
