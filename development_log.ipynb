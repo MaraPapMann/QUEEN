{
 "cells": [
  {
   "cell_type": "markdown",
   "metadata": {},
   "source": [
    "### ~Session 20240110"
   ]
  },
  {
   "cell_type": "markdown",
   "metadata": {},
   "source": [
    "### Objective\n",
    "- To incorporate QUEEN module into modelguard\n",
    "\n",
    "### Preprocess Workflow\n",
    "- Original Dataset $\\underset{Train}{\\longrightarrow}$ Victim Model\n",
    "- Victim Model $\\underset{Extract}{\\longrightarrow}$ Training Features\n",
    "- Training Features $\\underset{Train}{\\longrightarrow}$ Mapping Network\n",
    "- Mapping Network $\\underset{Perform}{\\longrightarrow}$ Sensitivity Analysis\n",
    "- Original Dataset $\\underset{Train}{\\longrightarrow}$ Shadow Models\n",
    "\n",
    "### Steps\n",
    "- Check whether the current network can extract features."
   ]
  }
 ],
 "metadata": {
  "kernelspec": {
   "display_name": "pytorch1.12.1",
   "language": "python",
   "name": "python3"
  },
  "language_info": {
   "codemirror_mode": {
    "name": "ipython",
    "version": 3
   },
   "file_extension": ".py",
   "mimetype": "text/x-python",
   "name": "python",
   "nbconvert_exporter": "python",
   "pygments_lexer": "ipython3",
   "version": "3.10.4"
  }
 },
 "nbformat": 4,
 "nbformat_minor": 2
}
